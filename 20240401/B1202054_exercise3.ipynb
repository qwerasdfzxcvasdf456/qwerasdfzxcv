{
  "nbformat": 4,
  "nbformat_minor": 0,
  "metadata": {
    "colab": {
      "provenance": []
    },
    "kernelspec": {
      "name": "python3",
      "display_name": "Python 3"
    },
    "language_info": {
      "name": "python"
    }
  },
  "cells": [
    {
      "cell_type": "code",
      "source": [
        "import copy\n",
        "\n",
        "a = {'name': 'laihongwei', 'gender': 'male', 'homework score': ['95', '100', '90']}\n",
        "b = {'student ID': 'M1129020'}\n",
        "\n",
        "a.update(b)\n",
        "\n",
        "c = copy.deepcopy(a)\n",
        "\n",
        "a['homework score'][1] = 80\n",
        "\n",
        "c['name'] = 'xujiaqi'\n",
        "c['gender'] = 'female'\n",
        "c['student ID'] = 'M1229001'\n",
        "\n",
        "x = int(a['homework score'][0])\n",
        "y = int(a['homework score'][1])\n",
        "z = int(a['homework score'][2])\n",
        "\n",
        "e = x + y + z\n",
        "e = e/3\n",
        "\n",
        "\n",
        "m = int(c['homework score'][0])\n",
        "n = int(c['homework score'][1])\n",
        "o = int(c['homework score'][2])\n",
        "\n",
        "f = m + n + o\n",
        "f = f/3\n",
        "\n",
        "k = a.pop('homework score')\n",
        "q = c.pop('homework score')\n",
        "print(e)\n",
        "print(a)\n",
        "print(f)\n",
        "print(c)\n",
        "\n",
        "\n"
      ],
      "metadata": {
        "colab": {
          "base_uri": "https://localhost:8080/"
        },
        "id": "Fav-NVYnfaC3",
        "outputId": "80dc06ba-6891-4bec-922a-e6ac682ef1ab"
      },
      "execution_count": 64,
      "outputs": [
        {
          "output_type": "stream",
          "name": "stdout",
          "text": [
            "88.33333333333333\n",
            "{'name': 'laihongwei', 'gender': 'male', 'student ID': 'M1129020'}\n",
            "95.0\n",
            "{'name': 'xujiaqi', 'gender': 'female', 'student ID': 'M1229001'}\n"
          ]
        }
      ]
    },
    {
      "cell_type": "code",
      "source": [
        "c = 347 / 3\n",
        "a = int(c)\n",
        "b = 347 - 3*a\n",
        "e = a ** b\n",
        "print(a)\n",
        "print(b)\n",
        "print(e)"
      ],
      "metadata": {
        "colab": {
          "base_uri": "https://localhost:8080/"
        },
        "id": "rfwZ9PGulB9G",
        "outputId": "8df25576-48da-4ac3-bdb5-1f65116167da"
      },
      "execution_count": 59,
      "outputs": [
        {
          "output_type": "stream",
          "name": "stdout",
          "text": [
            "115\n",
            "2\n",
            "13225\n"
          ]
        }
      ]
    },
    {
      "cell_type": "code",
      "source": [
        "a = ['100', '50', '45', '60', '90' ,'95', '80', '50']\n",
        "b = ['88']\n",
        "c = b + a\n",
        "c[2:5]=['70', '50']\n",
        "d = int(c.index('50'))\n",
        "del c[d]\n",
        "e = int(c.pop(0))\n",
        "f = int(c.pop(-1))\n",
        "\n",
        "g = e + f\n",
        "\n",
        "print(g)\n",
        "\n",
        "\n"
      ],
      "metadata": {
        "colab": {
          "base_uri": "https://localhost:8080/"
        },
        "id": "QbKOzADEnLld",
        "outputId": "42be5972-0560-4bde-a16f-8b81538c4642"
      },
      "execution_count": 102,
      "outputs": [
        {
          "output_type": "stream",
          "name": "stdout",
          "text": [
            "138\n"
          ]
        }
      ]
    }
  ]
}
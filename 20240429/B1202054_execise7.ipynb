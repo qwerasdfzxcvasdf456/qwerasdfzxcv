{
  "nbformat": 4,
  "nbformat_minor": 0,
  "metadata": {
    "colab": {
      "provenance": []
    },
    "kernelspec": {
      "name": "python3",
      "display_name": "Python 3"
    },
    "language_info": {
      "name": "python"
    }
  },
  "cells": [
    {
      "cell_type": "code",
      "source": [
        "def print_tree(a, b=3, c=5):\n",
        "    for i in range(1, a + 1):\n",
        "        print(f\"{'*' * (2*i - 1):^{2*a - 1}}\")\n",
        "    for _ in range(c):\n",
        "        print(f\"{'*' * b:^{2*a - 1}}\")\n",
        "\n",
        "def d():\n",
        "    try:\n",
        "        a = int(input(\"three height: \"))\n",
        "        if a < 7:\n",
        "            print(\"Height must be greater than or equal to 7\")\n",
        "            return\n",
        "        print_tree(a)\n",
        "    except ValueError:\n",
        "        print(\"Invalid input\")\n",
        "d()\n"
      ],
      "metadata": {
        "colab": {
          "base_uri": "https://localhost:8080/"
        },
        "id": "xiiRoLwwxIqV",
        "outputId": "4548ca24-4a6c-4db5-89c6-d958fd132700"
      },
      "execution_count": 28,
      "outputs": [
        {
          "output_type": "stream",
          "name": "stdout",
          "text": [
            "three height: 12\n",
            "           *           \n",
            "          ***          \n",
            "         *****         \n",
            "        *******        \n",
            "       *********       \n",
            "      ***********      \n",
            "     *************     \n",
            "    ***************    \n",
            "   *****************   \n",
            "  *******************  \n",
            " ********************* \n",
            "***********************\n",
            "          ***          \n",
            "          ***          \n",
            "          ***          \n",
            "          ***          \n",
            "          ***          \n"
          ]
        }
      ]
    },
    {
      "cell_type": "code",
      "source": [
        "def a(height, weight):\n",
        "    bmi = weight / (height ** 2)\n",
        "    return bmi\n",
        "\n",
        "def b(bmi):\n",
        "    if bmi < 18.5:\n",
        "        return \"Underweight\"\n",
        "    elif 18.5 <= bmi < 24:\n",
        "        return \"Normal\"\n",
        "    elif 24 <= bmi < 27:\n",
        "        return \"Overweight\"\n",
        "    else:\n",
        "        return \"Obese\"\n",
        "\n",
        "def c():\n",
        "    try:\n",
        "        height = float(input(\"Enter height (m): \"))\n",
        "        weight = float(input(\"Enter weight (kg): \"))\n",
        "        bmi = a(height, weight)\n",
        "        print(f\"BMI: {bmi:}\")\n",
        "        d = b(bmi)\n",
        "        print(f\"result: {d}\")\n",
        "    except ValueError:\n",
        "        print(\"Invalid input\")\n",
        "c()\n"
      ],
      "metadata": {
        "colab": {
          "base_uri": "https://localhost:8080/"
        },
        "id": "XQgeeP8I2VU0",
        "outputId": "6891737a-efca-4d4d-e680-af6ad4aca20c"
      },
      "execution_count": 44,
      "outputs": [
        {
          "output_type": "stream",
          "name": "stdout",
          "text": [
            "Enter height (m): 1.6\n",
            "Enter weight (kg): 54\n",
            "BMI: 21.093749999999996\n",
            "result: Normal\n"
          ]
        }
      ]
    }
  ]
}
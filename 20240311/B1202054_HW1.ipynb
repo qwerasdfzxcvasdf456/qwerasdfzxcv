{
  "nbformat": 4,
  "nbformat_minor": 0,
  "metadata": {
    "colab": {
      "provenance": []
    },
    "kernelspec": {
      "name": "python3",
      "display_name": "Python 3"
    },
    "language_info": {
      "name": "python"
    }
  },
  "cells": [
    {
      "cell_type": "code",
      "execution_count": 6,
      "metadata": {
        "colab": {
          "base_uri": "https://localhost:8080/"
        },
        "id": "oMERXz8r06tu",
        "outputId": "38d38e5b-2e20-4209-b8e5-a450cd2aeca5"
      },
      "outputs": [
        {
          "output_type": "stream",
          "name": "stdout",
          "text": [
            "I'm a student\n"
          ]
        }
      ],
      "source": [
        "print(\"I'm a student\")"
      ]
    },
    {
      "cell_type": "code",
      "source": [
        "a = float (input (\"x1=\"))\n",
        "b = float (input (\"y1=\"))\n",
        "c = float (input (\"x2=\"))\n",
        "d = float (input (\"y2=\"))\n",
        "\n",
        "e = ((a-b)**2 + (b-d)**2)\n",
        "e = e**0.5\n",
        "print(e)"
      ],
      "metadata": {
        "colab": {
          "base_uri": "https://localhost:8080/"
        },
        "id": "vMATC0OH2Jzf",
        "outputId": "7d16dcf3-7ea4-43f6-8020-6eaad18b3726"
      },
      "execution_count": 10,
      "outputs": [
        {
          "output_type": "stream",
          "name": "stdout",
          "text": [
            "x1=4\n",
            "y1=2\n",
            "x2=8\n",
            "y2=3\n",
            "2.23606797749979\n"
          ]
        }
      ]
    },
    {
      "cell_type": "code",
      "source": [
        " a = float (input (\"height=\"))\n",
        " b = float (input (\"weight=\"))\n",
        " d = a/100\n",
        " d **= 2\n",
        " b /= d\n",
        " print(b)"
      ],
      "metadata": {
        "colab": {
          "base_uri": "https://localhost:8080/"
        },
        "id": "0rkTm-MO36zD",
        "outputId": "b2dbbf08-76ae-40f1-c527-7c08fac2342c"
      },
      "execution_count": 15,
      "outputs": [
        {
          "output_type": "stream",
          "name": "stdout",
          "text": [
            "height=165\n",
            "weight=60\n",
            "22.03856749311295\n"
          ]
        }
      ]
    },
    {
      "cell_type": "code",
      "source": [],
      "metadata": {
        "id": "cLKvLCSN3vio"
      },
      "execution_count": null,
      "outputs": []
    }
  ]
}
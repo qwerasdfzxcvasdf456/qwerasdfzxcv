{
  "nbformat": 4,
  "nbformat_minor": 0,
  "metadata": {
    "colab": {
      "provenance": []
    },
    "kernelspec": {
      "name": "python3",
      "display_name": "Python 3"
    },
    "language_info": {
      "name": "python"
    }
  },
  "cells": [
    {
      "cell_type": "code",
      "execution_count": 26,
      "metadata": {
        "colab": {
          "base_uri": "https://localhost:8080/"
        },
        "id": "q7ahnV50bJin",
        "outputId": "1196dfcb-30b9-44fd-e66b-6b61c0aeb0e2"
      },
      "outputs": [
        {
          "output_type": "stream",
          "name": "stdout",
          "text": [
            "{'name': 'laihongwei', 'gemder': 'male', 'homework score': [100, '100', '90'], 'student ID': 'M11239020'}\n",
            "96.66666666666667\n"
          ]
        }
      ],
      "source": [
        "a = {'name': 'laihongwei', 'gemder': 'male', 'homework score': ['80', '95', '100', '90']}\n",
        "b = {'student ID': 'M11239020'}\n",
        "a.update(b)\n",
        "a['homework score'][1] = 100\n",
        "a['homework score'].pop(0)\n",
        "print(a)\n",
        "x = int(a['homework score'][0])\n",
        "y = int(a['homework score'][1])\n",
        "z = int(a['homework score'][2])\n",
        "c = x + y + z\n",
        "d = c/3\n",
        "print(d)"
      ]
    }
  ]
}
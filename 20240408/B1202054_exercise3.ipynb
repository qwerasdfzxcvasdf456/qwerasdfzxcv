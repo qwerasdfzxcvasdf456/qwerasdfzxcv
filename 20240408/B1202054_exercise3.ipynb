{
  "nbformat": 4,
  "nbformat_minor": 0,
  "metadata": {
    "colab": {
      "provenance": []
    },
    "kernelspec": {
      "name": "python3",
      "display_name": "Python 3"
    },
    "language_info": {
      "name": "python"
    }
  },
  "cells": [
    {
      "cell_type": "code",
      "execution_count": 25,
      "metadata": {
        "colab": {
          "base_uri": "https://localhost:8080/"
        },
        "id": "_ZtCI2vjhhT6",
        "outputId": "9a099a78-a438-4ab2-a1ec-e3e6525895e4"
      },
      "outputs": [
        {
          "output_type": "stream",
          "name": "stdout",
          "text": [
            "height=165\n",
            "weight=60\n",
            "22.03856749311295\n",
            "normal\n"
          ]
        }
      ],
      "source": [
        "a = float (input (\"height=\"))\n",
        "b = float (input (\"weight=\"))\n",
        "d = a/100\n",
        "d **= 2\n",
        "b /= d\n",
        "print(b)\n",
        "if  b >= 27 :\n",
        "    print('fat')\n",
        "elif  b >= 24 and b < 27 :\n",
        "    print('obese')\n",
        "elif  b >= 18.5 and b < 24 :\n",
        "    print('normal')\n",
        "else :\n",
        "    print('skinny')\n"
      ]
    },
    {
      "cell_type": "code",
      "source": [
        "a = float (input (\"first number=\"))\n",
        "b = input (\"mark=\")\n",
        "c = float (input (\"second number=\"))\n",
        "if b == '+' :\n",
        "  d = a + c\n",
        "  print(d)\n",
        "elif b == '-' :\n",
        "  e = a - c\n",
        "  print(e)\n",
        "elif b == '*' :\n",
        "  f = a * c\n",
        "  print(f)\n",
        "else :\n",
        "  g = a / c\n",
        "  print(g)"
      ],
      "metadata": {
        "colab": {
          "base_uri": "https://localhost:8080/"
        },
        "id": "U9VI9kPCm1cQ",
        "outputId": "1e51ab31-3517-4c64-cba1-0f1bd4fe422b"
      },
      "execution_count": 24,
      "outputs": [
        {
          "output_type": "stream",
          "name": "stdout",
          "text": [
            "first number=2\n",
            "mark=+\n",
            "second number=3\n",
            "5.0\n"
          ]
        }
      ]
    }
  ]
}
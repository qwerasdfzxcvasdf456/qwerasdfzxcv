{
  "nbformat": 4,
  "nbformat_minor": 0,
  "metadata": {
    "colab": {
      "provenance": []
    },
    "kernelspec": {
      "name": "python3",
      "display_name": "Python 3"
    },
    "language_info": {
      "name": "python"
    }
  },
  "cells": [
    {
      "cell_type": "code",
      "execution_count": null,
      "metadata": {
        "id": "VhaOKUm4xjTu"
      },
      "outputs": [],
      "source": [
        "a = int(input(\"insert year: \"))\n",
        "if a <= 1582:\n",
        "    b = 1582 - a\n",
        "    c = b // 4\n",
        "    if c * 4 == b:\n",
        "        print(\"Leap year\")\n",
        "    else:\n",
        "        print(\"Normal year\")\n",
        "else:\n",
        "    g = a // 400\n",
        "    if g * 400 == a :\n",
        "        print(\"Leap year\")\n",
        "    else:\n",
        "        h = a // 100\n",
        "        if h * 100 == a :\n",
        "            print(\"Leap year\")\n",
        "        else:\n",
        "            e = a - 1582\n",
        "            f = e // 4\n",
        "            if f * 4 == e:\n",
        "                print(\"Leap year\")\n",
        "            else:\n",
        "                print(\"Normal year\")"
      ]
    }
  ]
}
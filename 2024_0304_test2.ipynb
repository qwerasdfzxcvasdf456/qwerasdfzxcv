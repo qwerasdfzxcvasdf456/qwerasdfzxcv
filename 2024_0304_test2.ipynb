{
  "nbformat": 4,
  "nbformat_minor": 0,
  "metadata": {
    "colab": {
      "provenance": []
    },
    "kernelspec": {
      "name": "python3",
      "display_name": "Python 3"
    },
    "language_info": {
      "name": "python"
    }
  },
  "cells": [
    {
      "cell_type": "code",
      "execution_count": null,
      "metadata": {
        "colab": {
          "base_uri": "https://localhost:8080/"
        },
        "id": "2HaHQKThd2K6",
        "outputId": "6359229e-7271-4097-c16f-a9c48ae9afdc"
      },
      "outputs": [
        {
          "output_type": "stream",
          "name": "stdout",
          "text": [
            "495\n"
          ]
        }
      ],
      "source": [
        "x = 2\n",
        "y = 1\n",
        "a = 2*x+y\n",
        "b = 100-y\n",
        "c = a*b\n",
        "print (c)"
      ]
    },
    {
      "cell_type": "code",
      "source": [
        "y = 4\n",
        "d = 100/(2*y+1)\n",
        "print (d)"
      ],
      "metadata": {
        "colab": {
          "base_uri": "https://localhost:8080/"
        },
        "id": "QNVvuthueEvI",
        "outputId": "f2c7abf7-8681-48e1-d1de-7041ce6771a4"
      },
      "execution_count": null,
      "outputs": [
        {
          "output_type": "stream",
          "name": "stdout",
          "text": [
            "11.11111111111111\n"
          ]
        }
      ]
    },
    {
      "cell_type": "code",
      "source": [],
      "metadata": {
        "id": "tq_Hc3Jwe-L3"
      },
      "execution_count": null,
      "outputs": []
    }
  ]
}
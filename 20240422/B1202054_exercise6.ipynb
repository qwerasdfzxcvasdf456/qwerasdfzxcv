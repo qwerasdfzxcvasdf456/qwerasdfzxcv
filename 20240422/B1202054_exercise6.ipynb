{
  "nbformat": 4,
  "nbformat_minor": 0,
  "metadata": {
    "colab": {
      "provenance": []
    },
    "kernelspec": {
      "name": "python3",
      "display_name": "Python 3"
    },
    "language_info": {
      "name": "python"
    }
  },
  "cells": [
    {
      "cell_type": "code",
      "source": [
        "a = 1\n",
        "while a <= 9:\n",
        "    b = 1\n",
        "    while b <= 9:\n",
        "        print(f\"{a} * {b} = {a*b:<2}\", end=\"   \")\n",
        "        b += 1\n",
        "    print()\n",
        "    a += 1"
      ],
      "metadata": {
        "colab": {
          "base_uri": "https://localhost:8080/"
        },
        "id": "nS17N2O-pSIi",
        "outputId": "f9698a39-a126-4921-91e4-1e69892b581f"
      },
      "execution_count": 20,
      "outputs": [
        {
          "output_type": "stream",
          "name": "stdout",
          "text": [
            "1 * 1 = 1    1 * 2 = 2    1 * 3 = 3    1 * 4 = 4    1 * 5 = 5    1 * 6 = 6    1 * 7 = 7    1 * 8 = 8    1 * 9 = 9    \n",
            "2 * 1 = 2    2 * 2 = 4    2 * 3 = 6    2 * 4 = 8    2 * 5 = 10   2 * 6 = 12   2 * 7 = 14   2 * 8 = 16   2 * 9 = 18   \n",
            "3 * 1 = 3    3 * 2 = 6    3 * 3 = 9    3 * 4 = 12   3 * 5 = 15   3 * 6 = 18   3 * 7 = 21   3 * 8 = 24   3 * 9 = 27   \n",
            "4 * 1 = 4    4 * 2 = 8    4 * 3 = 12   4 * 4 = 16   4 * 5 = 20   4 * 6 = 24   4 * 7 = 28   4 * 8 = 32   4 * 9 = 36   \n",
            "5 * 1 = 5    5 * 2 = 10   5 * 3 = 15   5 * 4 = 20   5 * 5 = 25   5 * 6 = 30   5 * 7 = 35   5 * 8 = 40   5 * 9 = 45   \n",
            "6 * 1 = 6    6 * 2 = 12   6 * 3 = 18   6 * 4 = 24   6 * 5 = 30   6 * 6 = 36   6 * 7 = 42   6 * 8 = 48   6 * 9 = 54   \n",
            "7 * 1 = 7    7 * 2 = 14   7 * 3 = 21   7 * 4 = 28   7 * 5 = 35   7 * 6 = 42   7 * 7 = 49   7 * 8 = 56   7 * 9 = 63   \n",
            "8 * 1 = 8    8 * 2 = 16   8 * 3 = 24   8 * 4 = 32   8 * 5 = 40   8 * 6 = 48   8 * 7 = 56   8 * 8 = 64   8 * 9 = 72   \n",
            "9 * 1 = 9    9 * 2 = 18   9 * 3 = 27   9 * 4 = 36   9 * 5 = 45   9 * 6 = 54   9 * 7 = 63   9 * 8 = 72   9 * 9 = 81   \n"
          ]
        }
      ]
    },
    {
      "cell_type": "code",
      "source": [
        "import random\n",
        "\n",
        "a = random.sample(range(1, 10), 4)\n",
        "print(a)\n",
        "\n",
        "guesscount = 0\n",
        "\n",
        "while True:\n",
        "    b = input(\"Enter 4 numbers continuously: \")\n",
        "    d = [int(num) for num in b]\n",
        "    c = len(d)\n",
        "\n",
        "    if c == 4:\n",
        "        print(d)\n",
        "        x = 0\n",
        "        y = 0\n",
        "        z = 0\n",
        "        for i in b:\n",
        "            if int(i) == a[z]:\n",
        "                x += 1\n",
        "            elif int(i) in a:\n",
        "                y += 1\n",
        "            z += 1\n",
        "        result = f'{x}A{y}B'\n",
        "        print(result)\n",
        "        if result == '4A0B':\n",
        "            print(\"Bingo!\")\n",
        "            break\n",
        "        guesscount += 1\n",
        "    else:\n",
        "        print(\"Please re-input\")\n",
        "guesscount += 1\n",
        "print(\"Total valid guesses:\", guesscount)"
      ],
      "metadata": {
        "colab": {
          "base_uri": "https://localhost:8080/"
        },
        "id": "pgom22iEyOWg",
        "outputId": "3f84e831-f5e4-49c6-d040-ee44a061db5c"
      },
      "execution_count": 52,
      "outputs": [
        {
          "output_type": "stream",
          "name": "stdout",
          "text": [
            "[3, 2, 7, 6]\n",
            "Enter 4 numbers continuously: 3276\n",
            "[3, 2, 7, 6]\n",
            "4A0B\n",
            "Bingo!\n",
            "Total valid guesses: 1\n"
          ]
        }
      ]
    }
  ]
}